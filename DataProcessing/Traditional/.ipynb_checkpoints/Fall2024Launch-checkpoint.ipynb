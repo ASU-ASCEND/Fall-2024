{
 "cells": [
  {
   "cell_type": "markdown",
   "id": "772f0507",
   "metadata": {},
   "source": [
    "# Fall 2024 Launch Data"
   ]
  },
  {
   "cell_type": "code",
   "execution_count": 24,
   "id": "81117dfe",
   "metadata": {},
   "outputs": [],
   "source": [
    "import os \n",
    "import pandas as pd\n",
    "import matplotlib.pyplot as plt\n",
    "import numpy as np "
   ]
  },
  {
   "cell_type": "markdown",
   "id": "de6beddf",
   "metadata": {},
   "source": [
    "## File paths "
   ]
  },
  {
   "cell_type": "code",
   "execution_count": 15,
   "id": "1829d46c",
   "metadata": {},
   "outputs": [],
   "source": [
    "folder_path = os.path.join(\"..\",\"Fall2024Data\")\n",
    "flash_data = os.path.join(folder_path, \"ASCEND_DATA_2024_11_25_19_13_57.csv\")\n",
    "data2 = os.path.join(folder_path, \"DATA2.CSV\")\n",
    "data3 = os.path.join(folder_path, \"DATA3.CSV\")\n",
    "data4 = os.path.join(folder_path, \"DATA4.CSV\")\n",
    "geiger_data = os.path.join(folder_path, \"RadiaCode Log.txt\")\n",
    "geiger_spectrum_xml = os.path.join(folder_path, \"RadiaCode_ Spectrum.xml\")\n",
    "\n",
    "# create directory for processed files:\n",
    "temp_folder = \"F24Processed\"\n",
    "os.makedirs(temp_folder, exist_ok=True)"
   ]
  },
  {
   "cell_type": "markdown",
   "id": "2aace0dd",
   "metadata": {},
   "source": [
    "## Header tool "
   ]
  },
  {
   "cell_type": "code",
   "execution_count": 10,
   "id": "e76ccb82",
   "metadata": {},
   "outputs": [],
   "source": [
    "def parseHeader(header_hex):\n",
    "    full_no_fail_header = [\n",
    "      \"Header,\",\n",
    "      \"Millis,\",\n",
    "\n",
    "      \"PCFTime, \", \n",
    "      # \"DS3231Time,DS3231TempC,\",\n",
    "      \"BMETemp(C),BMEPress(hPa),BMEHum(%),BMEGas(KOhms),BMEAlt(m),\",    \n",
    "      # \"GeigerSensor(CPS),\", \n",
    "      \"INACurr(mA),INAVolt(mV),INAPow(mW),\",                   \n",
    "      \"LSM9DS1 AccX, LSM9DS1 AccY, LSM9DS1 AccZ, LSM9DS1 GyroX, LSM9DS1 GyroY, LSM9DS1 GyroZ, LSM9DS1 MagX, LSM9DS1 MagY, LSM9DS1 MagZ,\", \n",
    "      # \"SHTHum(%), SHTTemp(C),\",\n",
    "      \"PicoTemp(C),\",\n",
    "      #\"WindADC,TempADC,\", \n",
    "      \"SGPTVOC(ppb),SGPeCO2(ppm),SGPTVOCBase(ppb),SGPeCO2Base(ppb),SGPH2,SGPEtha,\",\n",
    "      \"BME280RelHum %,BME280Pres Pa,BME280Alt m,BME280TempC,DewPointC,\",  \n",
    "      \"ENSAQI,ENSTVOC ppb,ENSECO2 ppm,\",\n",
    "      \"UVA2(nm),UVB2(nm),UVC2(nm),\",\n",
    "      \"UVA0(nm),UVB0(nm),UVC0(nm),\",\n",
    "      \"ICM AccX,ICM AccY,ICM AccZ,ICM GyroX,ICM GyroY,ICM GyroZ,ICM MagX,ICM MagY,ICM MagZ,ICM TempC,\",\n",
    "      \"MTK_Date,MTK_Lat,MTKLong,MTKSpeed,MTKAngle,MTKAlt,MTKSats,\",\n",
    "      \" \"  # final space for matching fsw?\n",
    "    ]\n",
    "    header_bin = bin(header_field)[2:]\n",
    "    header_bin = header_bin[header_bin.find(\"1\"):] # trim to first 1\n",
    "    header = \"Receive time, \"\n",
    "    for i in range(len(header_bin)): # add each from full header if 1\n",
    "        if header_bin[i] == \"1\": header += full_no_fail_header[i]\n",
    "    return header"
   ]
  },
  {
   "cell_type": "markdown",
   "id": "35ec4b74",
   "metadata": {},
   "source": [
    "# Geiger Sensor "
   ]
  },
  {
   "cell_type": "code",
   "execution_count": 49,
   "id": "39e143e8",
   "metadata": {},
   "outputs": [
    {
     "name": "stdout",
     "output_type": "stream",
     "text": [
      "['Time', 'Timestamp', 'Event', 'Count Rate', 'cps', 'Dose rate', 'Sv/h', 'Dose Rate Error', '%', 'Dose Rate Alarm', 'Dose Alarm', 'Duration of dose accumulation', 'sec.', 'Dose', 'Sv', 'Temperature', 'Latitude', 'Longitude', 'Comment']\n"
     ]
    }
   ],
   "source": [
    "geiger_csv_path = os.path.join(temp_folder, \"geiger.csv\")\n",
    "with open(geiger_csv_path, \"w\") as fout, open(geiger_data, \"r\") as fin:\n",
    "    for line in fin:\n",
    "        line = line.replace(\";\", \",\")\n",
    "        fout.write(line)\n",
    "\n",
    "geiger_df = pd.read_csv(geiger_csv_path, skipinitialspace=True, skiprows=range(1,15))\n",
    "print(list(geiger_df.columns))\n"
   ]
  },
  {
   "cell_type": "code",
   "execution_count": 57,
   "id": "b04c85f3",
   "metadata": {},
   "outputs": [
    {
     "name": "stdout",
     "output_type": "stream",
     "text": [
      "7.2 99.0\n"
     ]
    },
    {
     "data": {
      "image/png": "[encoded data removed]",
      "text/plain": [
       "<Figure size 432x288 with 1 Axes>"
      ]
     },
     "metadata": {
      "needs_background": "light"
     },
     "output_type": "display_data"
    }
   ],
   "source": [
    "print(geiger_df[\"Dose rate\"].min(), geiger_df[\"Dose rate\"].max())\n",
    "\n",
    "fig, ax = plt.subplots()\n",
    "plt.scatter([i.split()[1] for i in geiger_df[\"Time\"]], geiger_df[\"Dose rate\"])\n",
    "ax.xaxis.set_major_locator(plt.MaxNLocator(2))\n",
    "ax.yaxis.set_major_locator(plt.MaxNLocator(10))\n",
    "plt.show()"
   ]
  },
  {
   "cell_type": "code",
   "execution_count": 56,
   "id": "ced9f01f",
   "metadata": {},
   "outputs": [
    {
     "data": {
      "image/png": "[encoded data removed]",
      "text/plain": [
       "<Figure size 432x288 with 1 Axes>"
      ]
     },
     "metadata": {
      "needs_background": "light"
     },
     "output_type": "display_data"
    }
   ],
   "source": [
    "fig, ax = plt.subplots()\n",
    "plt.scatter([i.split()[1] for i in geiger_df[\"Time\"]], geiger_df[\"cps\"])\n",
    "ax.xaxis.set_major_locator(plt.MaxNLocator(3))\n",
    "ax.yaxis.set_major_locator(plt.MaxNLocator(10))\n",
    "plt.show()"
   ]
  },
  {
   "cell_type": "markdown",
   "id": "d111a545",
   "metadata": {},
   "source": [
    "# Payload Sensors"
   ]
  },
  {
   "cell_type": "code",
   "execution_count": 73,
   "id": "918ee174",
   "metadata": {},
   "outputs": [
    {
     "name": "stdout",
     "output_type": "stream",
     "text": [
      "0\n",
      "[]\n"
     ]
    }
   ],
   "source": [
    "# combine the data\n",
    "payload_data = os.path.join(temp_folder, \"payload_data.csv\")\n",
    "skipped = []\n",
    "with open(payload_data, \"w\") as fout:\n",
    "    with open(data2) as fin:\n",
    "        for line in fin:\n",
    "            fout.write(line)\n",
    "    with open(data3) as fin:\n",
    "        for line in fin:\n",
    "            if(line.split(\",\")[0] == \"3f82\"):\n",
    "                fout.write(line)\n",
    "            else:\n",
    "                skipped.append(line)\n",
    "    with open(data4) as fin:\n",
    "        for line in fin:\n",
    "            if(line.split(\",\")[0] == \"3f82\"):\n",
    "                fout.write(line)\n",
    "            else:\n",
    "                skipped.append(line)\n",
    "print(len(skipped))\n",
    "print(skipped)"
   ]
  },
  {
   "cell_type": "code",
   "execution_count": 74,
   "id": "299b3b97",
   "metadata": {},
   "outputs": [
    {
     "name": "stdout",
     "output_type": "stream",
     "text": [
      "['Header', 'Millis', 'PCFTime', 'BMETemp(C)', 'BMEPress(hPa)', 'BMEHum(%)', 'BMEGas(KOhms)', 'BMEAlt(m)', 'INACurr(mA)', 'INAVolt(mV)', 'INAPow(mW)', 'LSM9DS1 AccX', 'LSM9DS1 AccY', 'LSM9DS1 AccZ', 'LSM9DS1 GyroX', 'LSM9DS1 GyroY', 'LSM9DS1 GyroZ', 'LSM9DS1 MagX', 'LSM9DS1 MagY', 'LSM9DS1 MagZ', 'PicoTemp(C)', 'SGPTVOC(ppb)', 'SGPeCO2(ppm)', 'SGPTVOCBase(ppb)', 'SGPeCO2Base(ppb)', 'SGPH2', 'SGPEtha', 'ICM AccX', 'ICM AccY', 'ICM AccZ', 'ICM GyroX', 'ICM GyroY', 'ICM GyroZ', 'ICM MagX', 'ICM MagY', 'ICM MagZ', 'ICM TempC', 'MTK_Date', 'MTK_Lat', 'MTKLong', 'MTKSpeed', 'MTKAngle', 'MTKAlt', 'MTKSats', 'Unnamed: 44']\n"
     ]
    }
   ],
   "source": [
    "custom_na = pd._libs.parsers.STR_NA_VALUES\n",
    "custom_na.add(\"-\")\n",
    "payload_df = pd.read_csv(payload_data, skipinitialspace=True, na_values=custom_na)\n",
    "print(list(payload_df.columns))"
   ]
  },
  {
   "cell_type": "code",
   "execution_count": 78,
   "id": "7e7c665e",
   "metadata": {},
   "outputs": [
    {
     "data": {
      "image/png": "[encoded data removed]",
      "text/plain": [
       "<Figure size 432x288 with 1 Axes>"
      ]
     },
     "metadata": {
      "needs_background": "light"
     },
     "output_type": "display_data"
    }
   ],
   "source": [
    "fig, ax = plt.subplots()\n",
    "plt.scatter(payload_df[\"Millis\"], payload_df[\"BMEAlt(m)\"])\n",
    "ax.xaxis.set_major_locator(plt.MaxNLocator(5))\n",
    "ax.yaxis.set_major_locator(plt.MaxNLocator(10))\n",
    "\n",
    "plt.title(\"Ti\")\n",
    "\n",
    "plt.show()"
   ]
  },
  {
   "cell_type": "code",
   "execution_count": null,
   "id": "c437e78d",
   "metadata": {},
   "outputs": [],
   "source": []
  }
 ],
 "metadata": {
  "kernelspec": {
   "display_name": "Python 3 (ipykernel)",
   "language": "python",
   "name": "python3"
  },
  "language_info": {
   "codemirror_mode": {
    "name": "ipython",
    "version": 3
   },
   "file_extension": ".py",
   "mimetype": "text/x-python",
   "name": "python",
   "nbconvert_exporter": "python",
   "pygments_lexer": "ipython3",
   "version": "3.9.13"
  }
 },
 "nbformat": 4,
 "nbformat_minor": 5
}
